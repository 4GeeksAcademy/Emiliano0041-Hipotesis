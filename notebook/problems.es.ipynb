{
 "cells": [
  {
   "cell_type": "markdown",
   "id": "d9d036c6",
   "metadata": {},
   "source": [
    "# Problemas de prueba de hipótesis"
   ]
  },
  {
   "cell_type": "code",
   "execution_count": 127,
   "id": "dfc43801",
   "metadata": {},
   "outputs": [],
   "source": [
    "import numpy as np\n",
    "from scipy import stats\n",
    "from scipy.stats import shapiro\n",
    "import matplotlib.pyplot as plt"
   ]
  },
  {
   "cell_type": "markdown",
   "id": "d157c4db",
   "metadata": {},
   "source": [
    "## Ejercicio 1\n",
    "\n",
    "Usted es un nutricionista que investiga dos tipos diferentes de dietas para ver si existe una diferencia significativa en la pérdida de peso después de un mes. Eliges dos grupos aleatorios de personas; un grupo sigue la primera dieta y el otro sigue la segunda. Al final del mes, se registra la pérdida de peso (en kg) de cada persona:\n",
    "\n",
    "| Diet 1 | Diet 2 |\n",
    "|:-------|:-------|\n",
    "| 2.0 | 3.0 |\n",
    "| 2.5 | 3.2 |\n",
    "| 3.0 | 3.1 |\n",
    "| 2.8 | 2.9 |\n",
    "| 2.3 | 2.8 |\n",
    "| 2.7 | 3.0 |\n",
    "| 2.5 | 3.2 |\n",
    "\n",
    "Con estos datos se busca responder a la siguiente pregunta: ¿Existe una diferencia significativa en la pérdida de peso promedio entre las personas que siguieron la primera dieta y las que siguieron la segunda dieta?\n",
    "\n",
    "Para sacar conclusiones, siga los siguientes puntos:\n",
    "\n",
    "-Enunciar la hipótesis: hipótesis nula y alternativa.\n",
    "\n",
    "-Realizar la prueba para comprobar la hipótesis. Puede utilizar la prueba t de Student.\n",
    "\n",
    "-Analizar las conclusiones."
   ]
  },
  {
   "cell_type": "markdown",
   "id": "1990daef",
   "metadata": {},
   "source": [
    "H_0 = \"No hay diferencias en la perdida de peso promedio entre las personas que siguieron la primera y la segunda dieta.\"\n",
    "\n",
    "H_1 = \"Existe una diferencia significativa en la perdida de peso en personas que siguieron la primera dieta y los que siguieron la segunda.\""
   ]
  },
  {
   "cell_type": "code",
   "execution_count": 104,
   "id": "8e0f3cf0",
   "metadata": {},
   "outputs": [],
   "source": [
    "diet_1 = np.array([2,2.5,3,2.8,2.3,2.7,2.5])\n",
    "diet_2 = np.array([3,3.2,3.1,2.9,2.8,3,3.2])\n"
   ]
  },
  {
   "cell_type": "code",
   "execution_count": 105,
   "id": "df4d7402",
   "metadata": {},
   "outputs": [
    {
     "data": {
      "text/plain": [
       "(np.float64(2.542857142857143), np.float64(3.0285714285714285))"
      ]
     },
     "execution_count": 105,
     "metadata": {},
     "output_type": "execute_result"
    }
   ],
   "source": [
    "media_1 = diet_1.mean()\n",
    "media_2 = diet_2.mean()\n",
    "media_1,media_2\n"
   ]
  },
  {
   "cell_type": "code",
   "execution_count": 106,
   "id": "cbde222f",
   "metadata": {},
   "outputs": [
    {
     "data": {
      "text/plain": [
       "(np.float64(-3.5383407969933938), np.float64(0.004083270191713912))"
      ]
     },
     "execution_count": 106,
     "metadata": {},
     "output_type": "execute_result"
    }
   ],
   "source": [
    "alpha = 0.05\n",
    "\n",
    "stats, p_value = stats.ttest_ind(diet_1, diet_2)\n",
    "stats, p_value\n",
    "\n"
   ]
  },
  {
   "cell_type": "code",
   "execution_count": 107,
   "id": "9c22198f",
   "metadata": {},
   "outputs": [
    {
     "data": {
      "text/plain": [
       "'Rechazamos H_0'"
      ]
     },
     "execution_count": 107,
     "metadata": {},
     "output_type": "execute_result"
    }
   ],
   "source": [
    "f\"Rechazamos H_0\" if p_value < alpha else f\"No tenemos suficientes pruebas para rechazar H_0\"\n"
   ]
  },
  {
   "cell_type": "code",
   "execution_count": 108,
   "id": "542a2e1e",
   "metadata": {},
   "outputs": [
    {
     "data": {
      "text/plain": [
       "np.float64(19.1011235955056)"
      ]
     },
     "execution_count": 108,
     "metadata": {},
     "output_type": "execute_result"
    }
   ],
   "source": [
    "porcentaje_mayor = ((media_2 - media_1) / media_1) * 100\n",
    "porcentaje_mayor"
   ]
  },
  {
   "cell_type": "markdown",
   "id": "a9c9a45f",
   "metadata": {},
   "source": [
    "### Conclusion\n",
    "\n",
    "- Llegamos a la conclusion de que hay diferencias significativas en la perdida de peso de las personas que siguieron la Dieta N1 y las que siguieron la dieta N2, siendo la dieta N2 un 19,10% mas efectiva comparando las medias."
   ]
  },
  {
   "cell_type": "markdown",
   "id": "e6e3bd7a",
   "metadata": {},
   "source": [
    "## EJERCICIO 2"
   ]
  },
  {
   "cell_type": "markdown",
   "id": "f432e18e",
   "metadata": {},
   "source": [
    "### intro ANOVA\n",
    "\n",
    "**ANOVA** (*Analysis of Variance - Análisis de variación*) Es una técnica estadística utilizada para comparar las medidas de dos o más grupos. La idea detrás de ANOVA es descomponer la variabilidad total de los datos en dos componentes: variabilidad entre grupos y variabilidad dentro de los grupos:\n",
    "\n",
    "- **Variabilidad entre grupos**: Esta variabilidad se refiere a las diferencias entre las medias del grupo. Si esta variabilidad es considerablemente mayor que la variabilidad dentro del grupo, podría ser una indicación de que al menos una de las medias del grupo es diferente.\n",
    "- **Variabilidad dentro del grupo**: Esta variabilidad se refiere a la dispersión de los datos dentro de cada grupo. Si todos los grupos tienen una variabilidad similar, entonces cualquier diferencia notable en las medias de los grupos podría considerarse significativa.\n",
    "\n",
    "Las hipótesis en ANOVA suelen incluir:\n",
    "\n",
    "- **Hipótesis nula** ($H₀$): Las medias de todos los grupos son iguales.\n",
    "- **Hipótesis alternativa** ($H₁$): Al menos una de las medias del grupo es diferente.\n",
    "\n",
    "Si el resultado de la prueba ANOVA es significativo (por ejemplo, un valor p inferior a un umbral como 0,05), esto sugiere que al menos la media de un grupo es diferente."
   ]
  },
  {
   "cell_type": "markdown",
   "id": "fc5f3721",
   "metadata": {},
   "source": [
    "\n",
    "\n",
    "Un agricultor decide probar tres tipos diferentes de fertilizantes para determinar si alguno es superior en términos de producción de maíz. El agricultor planta maíz en 15 parcelas idénticas y utiliza los tres fertilizantes (5 parcelas para cada tipo). Al final de la temporada mide el rendimiento de maíz (en kg) de cada parcela, con el siguiente resultado:\n",
    "\n",
    "| Fertilizante 1 | Fertilizante 2 | Fertilizante 3 |\n",
    "|:-------------|:-------------|:-------------|\n",
    "| 20 | 22 | 24 |\n",
    "| 21 | 21 | 23 |\n",
    "| 20 | 23 | 22 |\n",
    "| 19 | 22 | 23 |\n",
    "| 20 | 21 | 24 |\n",
    "\n",
    "Con estos datos busca responder la siguiente pregunta: ¿Existe una diferencia significativa en el rendimiento promedio del maíz entre los tres tipos de fertilizantes?\n",
    "\n",
    "Para ayudarte, sigue los siguientes puntos:\n",
    "\n",
    "-Enunciar la hipótesis: hipótesis nula y alternativa.\n",
    "\n",
    "-Realizar la prueba ANOVA.\n",
    "\n",
    "-Analizar las conclusiones.\n",
    "\n",
    "-Si un fertilizante es mejor que otro, ¿cómo podemos saberlo?"
   ]
  },
  {
   "cell_type": "markdown",
   "id": "1541136c",
   "metadata": {},
   "source": [
    "**Hipótesis nula** ($H₀$): Las medias de todos los grupos son iguales.\n",
    "\n",
    "**Hipótesis alternativa** ($H₁$): Al menos una de las medias del grupo es diferente."
   ]
  },
  {
   "cell_type": "markdown",
   "id": "078c34a9",
   "metadata": {},
   "source": [
    "#### Comprobacion de distribucion normal en los 3 grupos "
   ]
  },
  {
   "cell_type": "code",
   "execution_count": 121,
   "id": "eecad0ca",
   "metadata": {},
   "outputs": [
    {
     "data": {
      "text/plain": [
       "'Los tres grupos tienen una distribucion normal'"
      ]
     },
     "execution_count": 121,
     "metadata": {},
     "output_type": "execute_result"
    }
   ],
   "source": [
    "f_1 = np.array([20,21,20,19,20])\n",
    "f_2 = np.array([22,21,23,22,21])\n",
    "f_3 = np.array([24,23,22,23,24])\n",
    "\n",
    "stats, p_value1 = shapiro(f_1)\n",
    "stats, p_value2 = shapiro(f_2)\n",
    "stats, p_value3 = shapiro(f_3)\n",
    "\n",
    "f\"Los tres grupos tienen una distribucion normal\" if p_value1 > alpha and p_value2 > alpha and p_value3 > alpha else \"Al menos un grupo no tiene distribucion normal\"\n",
    "\n"
   ]
  },
  {
   "cell_type": "code",
   "execution_count": 124,
   "id": "eb1a09f8",
   "metadata": {},
   "outputs": [
    {
     "data": {
      "text/plain": [
       "'Rechazamos H_0'"
      ]
     },
     "execution_count": 124,
     "metadata": {},
     "output_type": "execute_result"
    }
   ],
   "source": [
    "\n",
    "stats, p_value = stats.f_oneway(f_1,f_2,f_3)\n",
    "\n",
    "f\"Rechazamos H_0\" if p_value < alpha else f\"No tenemos pruebas suficientes para rechazar H_0\"\n",
    "\n"
   ]
  },
  {
   "cell_type": "markdown",
   "id": "0a36c647",
   "metadata": {},
   "source": [
    "#### Comprobacion de las medias"
   ]
  },
  {
   "cell_type": "code",
   "execution_count": 132,
   "id": "0ee195ff",
   "metadata": {},
   "outputs": [],
   "source": [
    "media_f_1 = f_1.mean()\n",
    "media_f_2 = f_2.mean()\n",
    "media_f_3 = f_3.mean()\n",
    "\n",
    "medias = (media_f_1,media_f_2,media_f_3)\n",
    "fertilizantes = (\"fertilizante 1\", \"fertilizante 2\", \"fertilizante 3\")\n",
    "\n"
   ]
  },
  {
   "cell_type": "markdown",
   "id": "a6442088",
   "metadata": {},
   "source": [
    "#### Grafico de las medias"
   ]
  },
  {
   "cell_type": "code",
   "execution_count": 137,
   "id": "ca25621d",
   "metadata": {},
   "outputs": [
    {
     "data": {
      "text/plain": [
       "Text(0, 0.5, 'Medias de produccion')"
      ]
     },
     "execution_count": 137,
     "metadata": {},
     "output_type": "execute_result"
    },
    {
     "data": {
      "image/png": "[encoded data removed]",
      "text/plain": [
       "<Figure size 640x480 with 1 Axes>"
      ]
     },
     "metadata": {},
     "output_type": "display_data"
    }
   ],
   "source": [
    "plt.bar(fertilizantes, medias, color=\"green\", edgecolor= \"black\")\n",
    "plt.Figure(figsize=(8,6))\n",
    "plt.ylabel(\"Medias de produccion\")"
   ]
  },
  {
   "cell_type": "markdown",
   "id": "4c2e4132",
   "metadata": {},
   "source": [
    "### Conclusion\n",
    "\n",
    "- Como podemos observar en el grafico, el fertilizante numero 3 tuvo una mayor produccion que los demas.\n",
    "\n",
    "- En base a los estudios que hemos realizado, podemos descartar la H_0 que determinaba que no habian diferencias significativas en la produccion de los fertilizantes 1, 2 y 3. \n",
    "\n"
   ]
  }
 ],
 "metadata": {
  "kernelspec": {
   "display_name": "Python 3",
   "language": "python",
   "name": "python3"
  },
  "language_info": {
   "codemirror_mode": {
    "name": "ipython",
    "version": 3
   },
   "file_extension": ".py",
   "mimetype": "text/x-python",
   "name": "python",
   "nbconvert_exporter": "python",
   "pygments_lexer": "ipython3",
   "version": "3.11.4"
  }
 },
 "nbformat": 4,
 "nbformat_minor": 5
}
